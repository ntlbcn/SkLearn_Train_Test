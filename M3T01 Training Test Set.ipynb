{
 "cells": [
  {
   "cell_type": "markdown",
   "id": "5e7c820e",
   "metadata": {},
   "source": [
    "# M3 T01: Exercicis de training i test sets\n",
    "\n",
    "Familiaritza't amb la programació científica mitjantçant la llibreria SKLearn / Scikitlearn.\n",
    "\n",
    "## Nivell 1 - Exercici 1\n",
    "\n",
    "Parteix el conjunt de dadesDelayedFlights.csv en train i test. Estudia els dos conjunts per separat, a nivell descriptiu."
   ]
  },
  {
   "cell_type": "markdown",
   "id": "85af1cb4",
   "metadata": {},
   "source": [
    "_Llegim les dades que estan en format CSV, **DelayedFlights.csv**, per això necessitem carregar la llibreria **pandas**. Aprofitarem per a carregar també la llibreria **matplotlib**_"
   ]
  },
  {
   "cell_type": "code",
   "execution_count": 11,
   "id": "e793f608",
   "metadata": {},
   "outputs": [
    {
     "name": "stderr",
     "output_type": "stream",
     "text": [
      "C:\\Users\\Nuria\\anaconda3\\lib\\site-packages\\numpy\\lib\\arraysetops.py:583: FutureWarning: elementwise comparison failed; returning scalar instead, but in the future will perform elementwise comparison\n",
      "  mask |= (ar1 == a)\n"
     ]
    }
   ],
   "source": [
    "import pandas as pd\n",
    "import matplotlib.pyplot as plt\n",
    "\n",
    "df = pd.read_csv('./../data/DelayedFlights.csv', index_col=0)"
   ]
  },
  {
   "cell_type": "markdown",
   "id": "8f74060f",
   "metadata": {},
   "source": [
    "_Mirem les característiques de les dades carregades:_"
   ]
  },
  {
   "cell_type": "code",
   "execution_count": 12,
   "id": "f39d9128",
   "metadata": {},
   "outputs": [
    {
     "data": {
      "text/plain": [
       "(1936758, 29)"
      ]
     },
     "execution_count": 12,
     "metadata": {},
     "output_type": "execute_result"
    }
   ],
   "source": [
    "df.shape"
   ]
  },
  {
   "cell_type": "code",
   "execution_count": 13,
   "id": "a144c2d1",
   "metadata": {},
   "outputs": [
    {
     "data": {
      "text/plain": [
       "Index(['Year', 'Month', 'DayofMonth', 'DayOfWeek', 'DepTime', 'CRSDepTime',\n",
       "       'ArrTime', 'CRSArrTime', 'UniqueCarrier', 'FlightNum', 'TailNum',\n",
       "       'ActualElapsedTime', 'CRSElapsedTime', 'AirTime', 'ArrDelay',\n",
       "       'DepDelay', 'Origin', 'Dest', 'Distance', 'TaxiIn', 'TaxiOut',\n",
       "       'Cancelled', 'CancellationCode', 'Diverted', 'CarrierDelay',\n",
       "       'WeatherDelay', 'NASDelay', 'SecurityDelay', 'LateAircraftDelay'],\n",
       "      dtype='object')"
      ]
     },
     "execution_count": 13,
     "metadata": {},
     "output_type": "execute_result"
    }
   ],
   "source": [
    "df.columns"
   ]
  },
  {
   "cell_type": "markdown",
   "id": "e995534d",
   "metadata": {},
   "source": [
    "_Es disposen de 1.936.758 dades de vols i 29 variables. Entre les quals es troba la variable **ArrDelay** que serà la nostra variable resposta (y), la resta seran variables explicatives o independents(X). Creem els conjunts de dades corresponents_"
   ]
  },
  {
   "cell_type": "code",
   "execution_count": 14,
   "id": "be10ddf2",
   "metadata": {},
   "outputs": [
    {
     "name": "stdout",
     "output_type": "stream",
     "text": [
      "(1936758, 28) (1936758, 1)\n",
      "Index(['Year', 'Month', 'DayofMonth', 'DayOfWeek', 'DepTime', 'CRSDepTime',\n",
      "       'ArrTime', 'CRSArrTime', 'UniqueCarrier', 'FlightNum', 'TailNum',\n",
      "       'ActualElapsedTime', 'CRSElapsedTime', 'AirTime', 'DepDelay', 'Origin',\n",
      "       'Dest', 'Distance', 'TaxiIn', 'TaxiOut', 'Cancelled',\n",
      "       'CancellationCode', 'Diverted', 'CarrierDelay', 'WeatherDelay',\n",
      "       'NASDelay', 'SecurityDelay', 'LateAircraftDelay'],\n",
      "      dtype='object') Index(['ArrDelay'], dtype='object')\n"
     ]
    }
   ],
   "source": [
    "X, y = df.loc[:, df.columns != 'ArrDelay'], df.loc[:, df.columns == 'ArrDelay']\n",
    "print(X.shape, y.shape)\n",
    "print(X.columns, y.columns)"
   ]
  },
  {
   "cell_type": "markdown",
   "id": "dac3141c",
   "metadata": {},
   "source": [
    "_Ara el conjunt de dades **X** té 28 variables, i el **y** 1 variable, que és la variable **ArrDelay**. I de moment, ambdos conjunts de dades tenen dades de 1.936.758 vols_\n",
    "\n",
    "_Partim els conjunts de dades en Train i Test. Per això necessitem carregar **train_test_split** de la llibreria **sklearn.model_selection**. Farem que Train tingui el 67% de les observacions i Test el 33% restant, amb la instrucció **shape** ho revisarem_"
   ]
  },
  {
   "cell_type": "code",
   "execution_count": 15,
   "id": "fc48531e",
   "metadata": {},
   "outputs": [
    {
     "name": "stdout",
     "output_type": "stream",
     "text": [
      "(1297627, 28) (639131, 28) (1297627, 1) (639131, 1)\n"
     ]
    }
   ],
   "source": [
    "from sklearn.model_selection import train_test_split\n",
    "\n",
    "X_train, X_test, y_train, y_test = train_test_split(X, y, test_size=0.33, random_state=1)\n",
    "print(X_train.shape, X_test.shape, y_train.shape, y_test.shape)"
   ]
  },
  {
   "cell_type": "markdown",
   "id": "5d84e71f",
   "metadata": {},
   "source": [
    "_Estudiem els dos conjunts per separat, a nivell descriptiu_"
   ]
  },
  {
   "cell_type": "code",
   "execution_count": 16,
   "id": "fa7fb511",
   "metadata": {},
   "outputs": [
    {
     "name": "stdout",
     "output_type": "stream",
     "text": [
      "count    1.291994e+06\n",
      "mean     1.082641e+02\n",
      "std      6.858185e+01\n",
      "min      0.000000e+00\n",
      "25%      5.800000e+01\n",
      "50%      9.000000e+01\n",
      "75%      1.370000e+02\n",
      "max      6.640000e+02\n",
      "Name: AirTime, dtype: float64 count    636377.000000\n",
      "mean        108.303537\n",
      "std          68.765841\n",
      "min           1.000000\n",
      "25%          58.000000\n",
      "50%          90.000000\n",
      "75%         137.000000\n",
      "max        1091.000000\n",
      "Name: AirTime, dtype: float64\n"
     ]
    }
   ],
   "source": [
    "print(X_train['AirTime'].describe(), X_test['AirTime'].describe())"
   ]
  },
  {
   "cell_type": "code",
   "execution_count": 17,
   "id": "2bdbd74b",
   "metadata": {},
   "outputs": [
    {
     "name": "stdout",
     "output_type": "stream",
     "text": [
      "count    1.297627e+06\n",
      "mean     4.316610e+01\n",
      "std      5.332964e+01\n",
      "min      6.000000e+00\n",
      "25%      1.200000e+01\n",
      "50%      2.400000e+01\n",
      "75%      5.300000e+01\n",
      "max      2.467000e+03\n",
      "Name: DepDelay, dtype: float64 count    639131.000000\n",
      "mean         43.223909\n",
      "std          53.550152\n",
      "min           6.000000\n",
      "25%          12.000000\n",
      "50%          24.000000\n",
      "75%          53.000000\n",
      "max        2457.000000\n",
      "Name: DepDelay, dtype: float64\n"
     ]
    }
   ],
   "source": [
    "print(X_train['DepDelay'].describe(), X_test['DepDelay'].describe())"
   ]
  },
  {
   "cell_type": "code",
   "execution_count": 18,
   "id": "5a5b68bc",
   "metadata": {},
   "outputs": [
    {
     "name": "stdout",
     "output_type": "stream",
     "text": [
      "count    1.291994e+06\n",
      "mean     4.219159e+01\n",
      "std      5.672253e+01\n",
      "min     -1.090000e+02\n",
      "25%      9.000000e+00\n",
      "50%      2.400000e+01\n",
      "75%      5.600000e+01\n",
      "max      2.453000e+03\n",
      "Name: ArrDelay, dtype: float64 count    636377.000000\n",
      "mean         42.216724\n",
      "std          56.910803\n",
      "min         -68.000000\n",
      "25%           9.000000\n",
      "50%          24.000000\n",
      "75%          56.000000\n",
      "max        2461.000000\n",
      "Name: ArrDelay, dtype: float64\n"
     ]
    }
   ],
   "source": [
    "print(y_train['ArrDelay'].describe(), y_test['ArrDelay'].describe())"
   ]
  },
  {
   "cell_type": "code",
   "execution_count": 19,
   "id": "421866b1",
   "metadata": {},
   "outputs": [
    {
     "name": "stdout",
     "output_type": "stream",
     "text": [
      "Gener       122870\n",
      "Febrer      126924\n",
      "Març        134440\n",
      "Abril       104101\n",
      "Maig        102443\n",
      "Juny        134654\n",
      "Juliol      122637\n",
      "Agost       109037\n",
      "Setembre     63950\n",
      "Octubre      69253\n",
      "Novembre     70670\n",
      "Desembre    136648\n",
      "Name: Month, dtype: int64\n"
     ]
    },
    {
     "data": {
      "image/png": "[encoded data removed]",
      "text/plain": [
       "<Figure size 432x288 with 1 Axes>"
      ]
     },
     "metadata": {
      "needs_background": "light"
     },
     "output_type": "display_data"
    }
   ],
   "source": [
    "mes_X_train = X_train['Month'].value_counts(sort = False)\n",
    "mes_X_train.index = ('Gener','Febrer','Març','Abril','Maig','Juny','Juliol','Agost','Setembre','Octubre','Novembre','Desembre')\n",
    "print(mes_X_train)\n",
    "plt.bar(mes_X_train.index,mes_X_train.values,width=0.7,color='C2')\n",
    "plt.xlabel(\"Month\")\n",
    "plt.ylabel(\"Number of flights\")\n",
    "plt.title(\"X_train - Flights by month\")\n",
    "plt.show()"
   ]
  },
  {
   "cell_type": "code",
   "execution_count": 23,
   "id": "2c6075b5",
   "metadata": {},
   "outputs": [
    {
     "name": "stdout",
     "output_type": "stream",
     "text": [
      "Gener       60657\n",
      "Febrer      62610\n",
      "Març        66402\n",
      "Abril       51163\n",
      "Maig        50629\n",
      "Juny        66260\n",
      "Juliol      60308\n",
      "Agost       53611\n",
      "Setembre    31589\n",
      "Octubre     34272\n",
      "Novembre    34893\n",
      "Desembre    66737\n",
      "Name: Month, dtype: int64\n"
     ]
    },
    {
     "data": {
      "image/png": "[encoded data removed]",
      "text/plain": [
       "<Figure size 432x288 with 1 Axes>"
      ]
     },
     "metadata": {
      "needs_background": "light"
     },
     "output_type": "display_data"
    }
   ],
   "source": [
    "mes_X_test = X_test['Month'].value_counts(sort = False)\n",
    "mes_X_test.index = ('Gener','Febrer','Març','Abril','Maig','Juny','Juliol','Agost','Setembre','Octubre','Novembre','Desembre')\n",
    "print(mes_X_test)\n",
    "plt.bar(mes_X_test.index,mes_X_test.values,width=0.7,color='C8')\n",
    "plt.xlabel(\"Month\")\n",
    "plt.ylabel(\"Number of flights\")\n",
    "plt.title(\"X_test - Flights by month\")\n",
    "plt.show()"
   ]
  },
  {
   "cell_type": "code",
   "execution_count": 20,
   "id": "5616fdd1",
   "metadata": {},
   "outputs": [
    {
     "name": "stdout",
     "output_type": "stream",
     "text": [
      "Dll    194741\n",
      "Dm     175351\n",
      "Dx     175949\n",
      "Dj     193830\n",
      "Dv     216522\n",
      "Ds     149710\n",
      "Dg     191524\n",
      "Name: DayOfWeek, dtype: int64\n"
     ]
    },
    {
     "data": {
      "image/png": "[encoded data removed]",
      "text/plain": [
       "<Figure size 432x288 with 1 Axes>"
      ]
     },
     "metadata": {
      "needs_background": "light"
     },
     "output_type": "display_data"
    }
   ],
   "source": [
    "dia_X_train = X_train['DayOfWeek'].value_counts(sort = False)\n",
    "dia_X_train.index = ('Dll','Dm','Dx','Dj','Dv','Ds','Dg')\n",
    "print(dia_X_train)\n",
    "plt.bar(dia_X_train.index,dia_X_train.values,width=0.7,color='C2')\n",
    "plt.xlabel(\"Day of week\")\n",
    "plt.ylabel(\"Number of flights\")\n",
    "plt.title(\"X_train - Fights by Day of the week\")\n",
    "plt.show()"
   ]
  },
  {
   "cell_type": "code",
   "execution_count": 21,
   "id": "5fe47b74",
   "metadata": {},
   "outputs": [
    {
     "name": "stdout",
     "output_type": "stream",
     "text": [
      "Dll     96192\n",
      "Dm      85592\n",
      "Dx      86856\n",
      "Dj      95621\n",
      "Dv     106737\n",
      "Ds      73546\n",
      "Dg      94587\n",
      "Name: DayOfWeek, dtype: int64\n"
     ]
    },
    {
     "data": {
      "image/png": "[encoded data removed]",
      "text/plain": [
       "<Figure size 432x288 with 1 Axes>"
      ]
     },
     "metadata": {
      "needs_background": "light"
     },
     "output_type": "display_data"
    }
   ],
   "source": [
    "dia_X_test = X_test['DayOfWeek'].value_counts(sort = False)\n",
    "dia_X_test.index = ('Dll','Dm','Dx','Dj','Dv','Ds','Dg')\n",
    "print(dia_X_test)\n",
    "plt.bar(dia_X_test.index,dia_X_test.values,width=0.7,color='C8')\n",
    "plt.xlabel(\"Day of week\")\n",
    "plt.ylabel(\"Number of flights\")\n",
    "plt.title(\"X_test - Fights by Day of the week\")\n",
    "plt.show()"
   ]
  },
  {
   "cell_type": "code",
   "execution_count": 22,
   "id": "6a6b2f81",
   "metadata": {},
   "outputs": [
    {
     "data": {
      "text/plain": [
       "0    1297190\n",
       "1        437\n",
       "Name: Cancelled, dtype: int64"
      ]
     },
     "execution_count": 22,
     "metadata": {},
     "output_type": "execute_result"
    }
   ],
   "source": [
    "cancel_X_train = X_train['Cancelled'].value_counts()\n",
    "cancel_X_train"
   ]
  },
  {
   "cell_type": "code",
   "execution_count": 23,
   "id": "5cb92c33",
   "metadata": {},
   "outputs": [
    {
     "data": {
      "text/plain": [
       "0    638935\n",
       "1       196\n",
       "Name: Cancelled, dtype: int64"
      ]
     },
     "execution_count": 23,
     "metadata": {},
     "output_type": "execute_result"
    }
   ],
   "source": [
    "cancel_X_test = X_test['Cancelled'].value_counts()\n",
    "cancel_X_test"
   ]
  },
  {
   "cell_type": "markdown",
   "id": "b63e3130",
   "metadata": {},
   "source": [
    "## Nivell 2 - Exercici 2\n",
    "\n",
    "Aplica algun procés de transformació (estandarditzar les dades numèriques, crear columnes dummies, polinomis...)"
   ]
  },
  {
   "cell_type": "markdown",
   "id": "9628c081",
   "metadata": {},
   "source": [
    "- _Estandarditzar dades numèriques (Farem servir **StandardScaler** de la llibreria **sklearn.preprocessing**):_"
   ]
  },
  {
   "cell_type": "code",
   "execution_count": 24,
   "id": "1a21f7ed",
   "metadata": {},
   "outputs": [
    {
     "name": "stderr",
     "output_type": "stream",
     "text": [
      "<ipython-input-24-09483deec184>:11: SettingWithCopyWarning: \n",
      "A value is trying to be set on a copy of a slice from a DataFrame.\n",
      "Try using .loc[row_indexer,col_indexer] = value instead\n",
      "\n",
      "See the caveats in the documentation: https://pandas.pydata.org/pandas-docs/stable/user_guide/indexing.html#returning-a-view-versus-a-copy\n",
      "  X_train[cols_to_scale] = scaler.transform(X_train[cols_to_scale])\n",
      "C:\\Users\\Nuria\\anaconda3\\lib\\site-packages\\pandas\\core\\indexing.py:1738: SettingWithCopyWarning: \n",
      "A value is trying to be set on a copy of a slice from a DataFrame.\n",
      "Try using .loc[row_indexer,col_indexer] = value instead\n",
      "\n",
      "See the caveats in the documentation: https://pandas.pydata.org/pandas-docs/stable/user_guide/indexing.html#returning-a-view-versus-a-copy\n",
      "  self._setitem_single_column(loc, value[:, i].tolist(), pi)\n"
     ]
    }
   ],
   "source": [
    "from sklearn.preprocessing import StandardScaler\n",
    "\n",
    "#list for cols to scale\n",
    "cols_to_scale = ['AirTime','DepDelay']\n",
    "\n",
    "#create and fit scaler\n",
    "scaler = StandardScaler()\n",
    "scaler.fit(X_train[cols_to_scale])\n",
    "\n",
    "#scale selected data\n",
    "X_train[cols_to_scale] = scaler.transform(X_train[cols_to_scale])"
   ]
  },
  {
   "cell_type": "code",
   "execution_count": 25,
   "id": "ea4f9966",
   "metadata": {},
   "outputs": [
    {
     "name": "stderr",
     "output_type": "stream",
     "text": [
      "<ipython-input-25-a8915bd04e54>:6: SettingWithCopyWarning: \n",
      "A value is trying to be set on a copy of a slice from a DataFrame.\n",
      "Try using .loc[row_indexer,col_indexer] = value instead\n",
      "\n",
      "See the caveats in the documentation: https://pandas.pydata.org/pandas-docs/stable/user_guide/indexing.html#returning-a-view-versus-a-copy\n",
      "  X_test[cols_to_scale] = scaler.transform(X_test[cols_to_scale])\n",
      "C:\\Users\\Nuria\\anaconda3\\lib\\site-packages\\pandas\\core\\indexing.py:1738: SettingWithCopyWarning: \n",
      "A value is trying to be set on a copy of a slice from a DataFrame.\n",
      "Try using .loc[row_indexer,col_indexer] = value instead\n",
      "\n",
      "See the caveats in the documentation: https://pandas.pydata.org/pandas-docs/stable/user_guide/indexing.html#returning-a-view-versus-a-copy\n",
      "  self._setitem_single_column(loc, value[:, i].tolist(), pi)\n"
     ]
    }
   ],
   "source": [
    "#create and fit scaler\n",
    "scaler = StandardScaler()\n",
    "scaler.fit(X_test[cols_to_scale])\n",
    "\n",
    "#scale selected data\n",
    "X_test[cols_to_scale] = scaler.transform(X_test[cols_to_scale])"
   ]
  },
  {
   "cell_type": "markdown",
   "id": "96e90a94",
   "metadata": {},
   "source": [
    "- _Crear columnes dummies_"
   ]
  },
  {
   "cell_type": "code",
   "execution_count": 26,
   "id": "3d415a24",
   "metadata": {},
   "outputs": [
    {
     "name": "stderr",
     "output_type": "stream",
     "text": [
      "<ipython-input-26-f7d6b575930c>:1: UserWarning: Pandas doesn't allow columns to be created via a new attribute name - see https://pandas.pydata.org/pandas-docs/stable/indexing.html#attribute-access\n",
      "  X_train.cancel = X_train[X_train['Cancelled'] == 1]\n"
     ]
    },
    {
     "data": {
      "text/plain": [
       "B    217\n",
       "A    164\n",
       "C     56\n",
       "Name: CancellationCode, dtype: int64"
      ]
     },
     "execution_count": 26,
     "metadata": {},
     "output_type": "execute_result"
    }
   ],
   "source": [
    "X_train.cancel = X_train[X_train['Cancelled'] == 1]\n",
    "code_cancel = X_train.cancel['CancellationCode'].value_counts()\n",
    "code_cancel"
   ]
  },
  {
   "cell_type": "code",
   "execution_count": 27,
   "id": "2619bd02",
   "metadata": {},
   "outputs": [],
   "source": [
    "dummy = pd.get_dummies(X_train.cancel['CancellationCode'])"
   ]
  },
  {
   "cell_type": "code",
   "execution_count": 28,
   "id": "2a034fdb",
   "metadata": {},
   "outputs": [
    {
     "name": "stderr",
     "output_type": "stream",
     "text": [
      "<ipython-input-28-14e3e815dc1a>:1: UserWarning: Pandas doesn't allow columns to be created via a new attribute name - see https://pandas.pydata.org/pandas-docs/stable/indexing.html#attribute-access\n",
      "  X_train.cancel2 = pd.concat([X_train.cancel, dummy], axis = 1)\n"
     ]
    },
    {
     "data": {
      "text/html": [
       "<div>\n",
       "<style scoped>\n",
       "    .dataframe tbody tr th:only-of-type {\n",
       "        vertical-align: middle;\n",
       "    }\n",
       "\n",
       "    .dataframe tbody tr th {\n",
       "        vertical-align: top;\n",
       "    }\n",
       "\n",
       "    .dataframe thead th {\n",
       "        text-align: right;\n",
       "    }\n",
       "</style>\n",
       "<table border=\"1\" class=\"dataframe\">\n",
       "  <thead>\n",
       "    <tr style=\"text-align: right;\">\n",
       "      <th></th>\n",
       "      <th>Year</th>\n",
       "      <th>Month</th>\n",
       "      <th>DayofMonth</th>\n",
       "      <th>DayOfWeek</th>\n",
       "      <th>DepTime</th>\n",
       "      <th>CRSDepTime</th>\n",
       "      <th>ArrTime</th>\n",
       "      <th>CRSArrTime</th>\n",
       "      <th>UniqueCarrier</th>\n",
       "      <th>FlightNum</th>\n",
       "      <th>...</th>\n",
       "      <th>CancellationCode</th>\n",
       "      <th>Diverted</th>\n",
       "      <th>CarrierDelay</th>\n",
       "      <th>WeatherDelay</th>\n",
       "      <th>NASDelay</th>\n",
       "      <th>SecurityDelay</th>\n",
       "      <th>LateAircraftDelay</th>\n",
       "      <th>A</th>\n",
       "      <th>B</th>\n",
       "      <th>C</th>\n",
       "    </tr>\n",
       "  </thead>\n",
       "  <tbody>\n",
       "    <tr>\n",
       "      <th>6572715</th>\n",
       "      <td>2008</td>\n",
       "      <td>12</td>\n",
       "      <td>10</td>\n",
       "      <td>3</td>\n",
       "      <td>1955.0</td>\n",
       "      <td>1810</td>\n",
       "      <td>NaN</td>\n",
       "      <td>1927</td>\n",
       "      <td>XE</td>\n",
       "      <td>2307</td>\n",
       "      <td>...</td>\n",
       "      <td>B</td>\n",
       "      <td>0</td>\n",
       "      <td>NaN</td>\n",
       "      <td>NaN</td>\n",
       "      <td>NaN</td>\n",
       "      <td>NaN</td>\n",
       "      <td>NaN</td>\n",
       "      <td>0</td>\n",
       "      <td>1</td>\n",
       "      <td>0</td>\n",
       "    </tr>\n",
       "    <tr>\n",
       "      <th>6980518</th>\n",
       "      <td>2008</td>\n",
       "      <td>12</td>\n",
       "      <td>19</td>\n",
       "      <td>5</td>\n",
       "      <td>1502.0</td>\n",
       "      <td>1205</td>\n",
       "      <td>NaN</td>\n",
       "      <td>1654</td>\n",
       "      <td>CO</td>\n",
       "      <td>661</td>\n",
       "      <td>...</td>\n",
       "      <td>B</td>\n",
       "      <td>0</td>\n",
       "      <td>NaN</td>\n",
       "      <td>NaN</td>\n",
       "      <td>NaN</td>\n",
       "      <td>NaN</td>\n",
       "      <td>NaN</td>\n",
       "      <td>0</td>\n",
       "      <td>1</td>\n",
       "      <td>0</td>\n",
       "    </tr>\n",
       "    <tr>\n",
       "      <th>5739707</th>\n",
       "      <td>2008</td>\n",
       "      <td>10</td>\n",
       "      <td>29</td>\n",
       "      <td>3</td>\n",
       "      <td>2032.0</td>\n",
       "      <td>1900</td>\n",
       "      <td>NaN</td>\n",
       "      <td>2000</td>\n",
       "      <td>MQ</td>\n",
       "      <td>3031</td>\n",
       "      <td>...</td>\n",
       "      <td>B</td>\n",
       "      <td>0</td>\n",
       "      <td>NaN</td>\n",
       "      <td>NaN</td>\n",
       "      <td>NaN</td>\n",
       "      <td>NaN</td>\n",
       "      <td>NaN</td>\n",
       "      <td>0</td>\n",
       "      <td>1</td>\n",
       "      <td>0</td>\n",
       "    </tr>\n",
       "    <tr>\n",
       "      <th>6838330</th>\n",
       "      <td>2008</td>\n",
       "      <td>12</td>\n",
       "      <td>16</td>\n",
       "      <td>2</td>\n",
       "      <td>1604.0</td>\n",
       "      <td>1425</td>\n",
       "      <td>NaN</td>\n",
       "      <td>1615</td>\n",
       "      <td>MQ</td>\n",
       "      <td>4177</td>\n",
       "      <td>...</td>\n",
       "      <td>C</td>\n",
       "      <td>0</td>\n",
       "      <td>NaN</td>\n",
       "      <td>NaN</td>\n",
       "      <td>NaN</td>\n",
       "      <td>NaN</td>\n",
       "      <td>NaN</td>\n",
       "      <td>0</td>\n",
       "      <td>0</td>\n",
       "      <td>1</td>\n",
       "    </tr>\n",
       "    <tr>\n",
       "      <th>6915056</th>\n",
       "      <td>2008</td>\n",
       "      <td>12</td>\n",
       "      <td>26</td>\n",
       "      <td>5</td>\n",
       "      <td>2054.0</td>\n",
       "      <td>1955</td>\n",
       "      <td>NaN</td>\n",
       "      <td>2155</td>\n",
       "      <td>AA</td>\n",
       "      <td>1081</td>\n",
       "      <td>...</td>\n",
       "      <td>B</td>\n",
       "      <td>0</td>\n",
       "      <td>NaN</td>\n",
       "      <td>NaN</td>\n",
       "      <td>NaN</td>\n",
       "      <td>NaN</td>\n",
       "      <td>NaN</td>\n",
       "      <td>0</td>\n",
       "      <td>1</td>\n",
       "      <td>0</td>\n",
       "    </tr>\n",
       "  </tbody>\n",
       "</table>\n",
       "<p>5 rows × 31 columns</p>\n",
       "</div>"
      ],
      "text/plain": [
       "         Year  Month  DayofMonth  DayOfWeek  DepTime  CRSDepTime  ArrTime  \\\n",
       "6572715  2008     12          10          3   1955.0        1810      NaN   \n",
       "6980518  2008     12          19          5   1502.0        1205      NaN   \n",
       "5739707  2008     10          29          3   2032.0        1900      NaN   \n",
       "6838330  2008     12          16          2   1604.0        1425      NaN   \n",
       "6915056  2008     12          26          5   2054.0        1955      NaN   \n",
       "\n",
       "         CRSArrTime UniqueCarrier  FlightNum  ... CancellationCode  Diverted  \\\n",
       "6572715        1927            XE       2307  ...                B         0   \n",
       "6980518        1654            CO        661  ...                B         0   \n",
       "5739707        2000            MQ       3031  ...                B         0   \n",
       "6838330        1615            MQ       4177  ...                C         0   \n",
       "6915056        2155            AA       1081  ...                B         0   \n",
       "\n",
       "         CarrierDelay  WeatherDelay  NASDelay SecurityDelay LateAircraftDelay  \\\n",
       "6572715           NaN           NaN       NaN           NaN               NaN   \n",
       "6980518           NaN           NaN       NaN           NaN               NaN   \n",
       "5739707           NaN           NaN       NaN           NaN               NaN   \n",
       "6838330           NaN           NaN       NaN           NaN               NaN   \n",
       "6915056           NaN           NaN       NaN           NaN               NaN   \n",
       "\n",
       "         A  B  C  \n",
       "6572715  0  1  0  \n",
       "6980518  0  1  0  \n",
       "5739707  0  1  0  \n",
       "6838330  0  0  1  \n",
       "6915056  0  1  0  \n",
       "\n",
       "[5 rows x 31 columns]"
      ]
     },
     "execution_count": 28,
     "metadata": {},
     "output_type": "execute_result"
    }
   ],
   "source": [
    "X_train.cancel2 = pd.concat([X_train.cancel, dummy], axis = 1)\n",
    "X_train.cancel2.head()"
   ]
  },
  {
   "cell_type": "markdown",
   "id": "03f31f6d",
   "metadata": {},
   "source": [
    "## Nivell 3 - Exercici 3\n",
    "\n",
    "Resumeix les noves columnes generades de manera estadística i gràfica"
   ]
  },
  {
   "cell_type": "code",
   "execution_count": 29,
   "id": "a6e40415",
   "metadata": {},
   "outputs": [
    {
     "name": "stdout",
     "output_type": "stream",
     "text": [
      "count    1.291994e+06\n",
      "mean    -1.947192e-17\n",
      "std      1.000000e+00\n",
      "min     -1.578613e+00\n",
      "25%     -7.329077e-01\n",
      "50%     -2.663118e-01\n",
      "75%      4.190010e-01\n",
      "max      8.103252e+00\n",
      "Name: AirTime, dtype: float64 count    6.363770e+05\n",
      "mean    -4.451285e-17\n",
      "std      1.000001e+00\n",
      "min     -1.560420e+00\n",
      "25%     -7.315198e-01\n",
      "50%     -2.661721e-01\n",
      "75%      4.173073e-01\n",
      "max      1.429049e+01\n",
      "Name: AirTime, dtype: float64\n"
     ]
    }
   ],
   "source": [
    "print(X_train['AirTime'].describe(), X_test['AirTime'].describe())"
   ]
  },
  {
   "cell_type": "code",
   "execution_count": 30,
   "id": "f5779372",
   "metadata": {},
   "outputs": [
    {
     "data": {
      "image/png": "[encoded data removed]",
      "text/plain": [
       "<Figure size 432x288 with 1 Axes>"
      ]
     },
     "metadata": {
      "needs_background": "light"
     },
     "output_type": "display_data"
    }
   ],
   "source": [
    "plt.hist(X_train['AirTime'],color='C2')\n",
    "plt.xlabel(\"Air Time (standard)\")\n",
    "plt.ylabel(\"Number of flights\")\n",
    "plt.title(\"X_train\")\n",
    "plt.show()"
   ]
  },
  {
   "cell_type": "code",
   "execution_count": 31,
   "id": "034bfe2c",
   "metadata": {},
   "outputs": [
    {
     "data": {
      "image/png": "[encoded data removed]",
      "text/plain": [
       "<Figure size 432x288 with 1 Axes>"
      ]
     },
     "metadata": {
      "needs_background": "light"
     },
     "output_type": "display_data"
    }
   ],
   "source": [
    "plt.hist(X_test['AirTime'],color='C8')\n",
    "plt.xlabel(\"Air Time (standard)\")\n",
    "plt.ylabel(\"Number of flights\")\n",
    "plt.title(\"X_test\")\n",
    "plt.show()"
   ]
  },
  {
   "cell_type": "code",
   "execution_count": 32,
   "id": "3db189d1",
   "metadata": {},
   "outputs": [
    {
     "name": "stdout",
     "output_type": "stream",
     "text": [
      "count    1.297627e+06\n",
      "mean    -1.721017e-16\n",
      "std      1.000000e+00\n",
      "min     -6.969129e-01\n",
      "25%     -5.844051e-01\n",
      "50%     -3.593894e-01\n",
      "75%      1.843985e-01\n",
      "max      4.545005e+01\n",
      "Name: DepDelay, dtype: float64 count    6.391310e+05\n",
      "mean     2.000370e-16\n",
      "std      1.000001e+00\n",
      "min     -6.951229e-01\n",
      "25%     -5.830783e-01\n",
      "50%     -3.589892e-01\n",
      "75%      1.825597e-01\n",
      "max      4.507509e+01\n",
      "Name: DepDelay, dtype: float64\n"
     ]
    }
   ],
   "source": [
    "print(X_train['DepDelay'].describe(), X_test['DepDelay'].describe())"
   ]
  },
  {
   "cell_type": "code",
   "execution_count": 33,
   "id": "3a7654dd",
   "metadata": {},
   "outputs": [
    {
     "data": {
      "image/png": "[encoded data removed]",
      "text/plain": [
       "<Figure size 432x288 with 1 Axes>"
      ]
     },
     "metadata": {
      "needs_background": "light"
     },
     "output_type": "display_data"
    }
   ],
   "source": [
    "plt.hist(X_train['DepDelay'],color='C2')\n",
    "plt.xlabel(\"Departure Delay (standard)\")\n",
    "plt.ylabel(\"Number of flights\")\n",
    "plt.title(\"X_train\")\n",
    "plt.show()"
   ]
  },
  {
   "cell_type": "code",
   "execution_count": 34,
   "id": "95441eec",
   "metadata": {},
   "outputs": [
    {
     "data": {
      "image/png": "[encoded data removed]",
      "text/plain": [
       "<Figure size 432x288 with 1 Axes>"
      ]
     },
     "metadata": {
      "needs_background": "light"
     },
     "output_type": "display_data"
    }
   ],
   "source": [
    "plt.hist(X_test['DepDelay'],color='C8')\n",
    "plt.xlabel(\"Departure Delay (standard)\")\n",
    "plt.ylabel(\"Number of flights\")\n",
    "plt.title(\"X_test\")\n",
    "plt.show()"
   ]
  },
  {
   "cell_type": "markdown",
   "id": "4abcd7c5",
   "metadata": {},
   "source": [
    "_Vols cancel·lats_"
   ]
  },
  {
   "cell_type": "code",
   "execution_count": 35,
   "id": "58c0412f",
   "metadata": {},
   "outputs": [
    {
     "name": "stderr",
     "output_type": "stream",
     "text": [
      "<ipython-input-35-e1aa3fdeb927>:6: UserWarning: Pandas doesn't allow columns to be created via a new attribute name - see https://pandas.pydata.org/pandas-docs/stable/indexing.html#attribute-access\n",
      "  X_train.cancel2.grups = X_train.cancel2.agg(aggregations)\n"
     ]
    },
    {
     "data": {
      "text/plain": [
       "A    164\n",
       "B    217\n",
       "C     56\n",
       "dtype: int64"
      ]
     },
     "execution_count": 35,
     "metadata": {},
     "output_type": "execute_result"
    }
   ],
   "source": [
    "aggregations={\n",
    "    'A':sum,\n",
    "    'B':sum,\n",
    "    'C':sum,\n",
    "             }\n",
    "X_train.cancel2.grups = X_train.cancel2.agg(aggregations)\n",
    "X_train.cancel2.grups"
   ]
  },
  {
   "cell_type": "code",
   "execution_count": 36,
   "id": "15e9a96c",
   "metadata": {},
   "outputs": [
    {
     "data": {
      "image/png": "[encoded data removed]",
      "text/plain": [
       "<Figure size 432x288 with 1 Axes>"
      ]
     },
     "metadata": {
      "needs_background": "light"
     },
     "output_type": "display_data"
    }
   ],
   "source": [
    "plt.bar(X_train.cancel2.grups.index,X_train.cancel2.grups.values,color='C5')\n",
    "plt.xlabel(\"Cancellation code\")\n",
    "plt.ylabel(\"Number of flights\")\n",
    "plt.title(\"X_train\")\n",
    "plt.show()"
   ]
  },
  {
   "cell_type": "code",
   "execution_count": null,
   "id": "bbc62d82",
   "metadata": {},
   "outputs": [],
   "source": []
  }
 ],
 "metadata": {
  "kernelspec": {
   "display_name": "Python 3",
   "language": "python",
   "name": "python3"
  },
  "language_info": {
   "codemirror_mode": {
    "name": "ipython",
    "version": 3
   },
   "file_extension": ".py",
   "mimetype": "text/x-python",
   "name": "python",
   "nbconvert_exporter": "python",
   "pygments_lexer": "ipython3",
   "version": "3.8.8"
  }
 },
 "nbformat": 4,
 "nbformat_minor": 5
}
